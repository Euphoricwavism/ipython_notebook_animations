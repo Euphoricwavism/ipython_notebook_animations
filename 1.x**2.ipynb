{
 "cells": [
  {
   "cell_type": "markdown",
   "metadata": {
    "collapsed": true
   },
   "source": [
    "# 二次関数と接線のプロット\n",
    "二次関数と接線3つをIPythonとPNGいずれかに出力するコードです。  \n",
    "動作確認済み環境は以下の通り。\n",
    "\n",
    "項目|バージョン\n",
    "---|---\n",
    "OS|Mac OSX 10.10.5(Yosemite)\n",
    "Python|3.5.1\n",
    "matplotlib|1.5.1\n",
    "numpy|1.11.0\n",
    "seaborn|0.7.0\n"
   ]
  },
  {
   "cell_type": "markdown",
   "metadata": {},
   "source": [
    "## 必要なライブラリのインポート"
   ]
  },
  {
   "cell_type": "code",
   "execution_count": 16,
   "metadata": {
    "collapsed": false
   },
   "outputs": [],
   "source": [
    "import matplotlib.pyplot as plt\n",
    "import numpy as np\n",
    "import seaborn as sns\n",
    "%matplotlib inline"
   ]
  },
  {
   "cell_type": "markdown",
   "metadata": {},
   "source": [
    "## 二次関数の定義"
   ]
  },
  {
   "cell_type": "code",
   "execution_count": 17,
   "metadata": {
    "collapsed": false
   },
   "outputs": [],
   "source": [
    "def plot_quadratic_function():\n",
    "    # -8から8まで0.01で刻んだ配列を生成\n",
    "    x1 = np.arange(-8,8,0.01) \n",
    "    # -8から8まで0.01で刻んだ際の二次関数のそれぞれのYの値を算出\n",
    "    y1 = x1**2\n",
    "    # x軸、y軸それぞれの値があるのでプロット\n",
    "    plt.plot(x1,y1)"
   ]
  },
  {
   "cell_type": "markdown",
   "metadata": {},
   "source": [
    "## 接線の定義\n",
    "接線の方程式は以下の通りです。  \n",
    "\\begin{eqnarray}\n",
    "y−f(a) &=& f'(a)(x−a)\\tag{1}\n",
    "\\end{eqnarray}  \n",
    "また、前提の式として、$f(x) = x^2$である場合は微分した式は以下の通りとなります。\n",
    "\\begin{eqnarray}\n",
    "f'(x) &=& 2x\\\\\n",
    "f'(a) &=& 2a\\tag{2}\\\\\n",
    "\\end{eqnarray}  \n",
    "これらを最用いて終的にプログラムで使う式に変更すると以下の通りとなります。  \n",
    "\\begin{eqnarray}\n",
    "y &=& f'(a)(x−a) + f(a)\\tag{(1)の左辺のf(a)を右辺に}\\\\\n",
    "y &=& 2a(x-a) + a^2\\tag{(2)のf'(a)を代入}\\\\\n",
    "y &=& 2ax -2a^2 + a^2\\\\\n",
    "y &=& 2ax -a^2\\\\\n",
    "\\end{eqnarray}\n"
   ]
  },
  {
   "cell_type": "code",
   "execution_count": 18,
   "metadata": {
    "collapsed": false
   },
   "outputs": [],
   "source": [
    "def plot_tangential_line():\n",
    "    # a = 0,1,2 のそれぞれの接線をプロット\n",
    "    max=3\n",
    "    for a in range(0,max,1):\n",
    "        x = np.arange(-8,8,0.01) \n",
    "        y = 2*a*x - a**2\n",
    "        plt.plot(x,y)"
   ]
  },
  {
   "cell_type": "markdown",
   "metadata": {},
   "source": [
    "## 出力先の決定"
   ]
  },
  {
   "cell_type": "code",
   "execution_count": 19,
   "metadata": {
    "collapsed": true
   },
   "outputs": [],
   "source": [
    "## \"IPthon\"ならIPython内に表示、\"PNG\"ならPNGに出力\n",
    "export_to = \"IPython\"\n",
    "#export_to = \"PNG\""
   ]
  },
  {
   "cell_type": "markdown",
   "metadata": {},
   "source": [
    "## 実際の出力"
   ]
  },
  {
   "cell_type": "code",
   "execution_count": null,
   "metadata": {
    "collapsed": false
   },
   "outputs": [],
   "source": [
    "# グラフのx軸の範囲を設定\n",
    "plt.xlim([-8,8])\n",
    "# グラフのy軸の範囲を設定\n",
    "plt.ylim([-5,40])\n",
    "plot_quadratic_function()\n",
    "plot_tangential_line()\n",
    "\n",
    "if export_to == \"IPython\":\n",
    "    # グラフの表示\n",
    "    plt.show() \n",
    "elif export_to == \"PNG\":\n",
    "    # ファイルの出力\n",
    "    filename = \"x**2.png\"\n",
    "    plt.savefig(filename)\n",
    "    plt.close()"
   ]
  },
  {
   "cell_type": "code",
   "execution_count": null,
   "metadata": {
    "collapsed": true
   },
   "outputs": [],
   "source": []
  }
 ],
 "metadata": {
  "kernelspec": {
   "display_name": "Python 3",
   "language": "python",
   "name": "python3"
  },
  "language_info": {
   "codemirror_mode": {
    "name": "ipython",
    "version": 3
   },
   "file_extension": ".py",
   "mimetype": "text/x-python",
   "name": "python",
   "nbconvert_exporter": "python",
   "pygments_lexer": "ipython3",
   "version": "3.5.1"
  },
  "nav_menu": {},
  "toc": {
   "navigate_menu": true,
   "number_sections": true,
   "sideBar": true,
   "threshold": 6,
   "toc_cell": false,
   "toc_section_display": "block",
   "toc_window_display": false
  }
 },
 "nbformat": 4,
 "nbformat_minor": 0
}
